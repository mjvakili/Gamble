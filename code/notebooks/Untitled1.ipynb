{
 "cells": [
  {
   "cell_type": "code",
   "execution_count": 1,
   "metadata": {
    "collapsed": false
   },
   "outputs": [
    {
     "name": "stderr",
     "output_type": "stream",
     "text": [
      "/home/mj/.local/lib/python2.7/site-packages/IPython/kernel/__init__.py:13: ShimWarning: The `IPython.kernel` package has been deprecated. You should import from ipykernel or jupyter_client instead.\n",
      "  \"You should import from ipykernel or jupyter_client instead.\", ShimWarning)\n"
     ]
    }
   ],
   "source": [
    "%matplotlib inline\n",
    "from matplotlib import lines as mlines\n",
    "from matplotlib import pyplot as plt\n",
    "import numpy as np\n",
    "from halotools.empirical_models import PrebuiltHodModelFactory"
   ]
  },
  {
   "cell_type": "code",
   "execution_count": 10,
   "metadata": {
    "collapsed": true
   },
   "outputs": [],
   "source": [
    "model = PrebuiltHodModelFactory('hearin15', threshold = 10.6, redshift = 0., \n",
    "                        central_assembias_strength = 0, \n",
    "                        satellite_assembias_strength = 0)\n",
    "#model.param_dict['scatter_model_param1'] = 0.4 \n",
    "baseline_model = PrebuiltHodModelFactory('leauthaud11', threshold = 10.6, redshift = 0.)\n",
    "#baseline_model.param_dict['scatter_model_param1'] = 0.4"
   ]
  },
  {
   "cell_type": "code",
   "execution_count": 3,
   "metadata": {
    "collapsed": false
   },
   "outputs": [],
   "source": [
    "hod = 'leauthaud11'\n",
    "tr = 10.6\n",
    "z = 0.\n",
    "model = PrebuiltHodModelFactory(hod , threshold = tr , redshift = z)"
   ]
  },
  {
   "cell_type": "code",
   "execution_count": 3,
   "metadata": {
    "collapsed": false
   },
   "outputs": [
    {
     "name": "stdout",
     "output_type": "stream",
     "text": [
      "(24,)\n",
      "[ 0.02231  0.02725  0.03328  0.04065  0.04965  0.06064  0.07407  0.09047\n",
      "  0.1105   0.13496  0.16484  0.20134  0.24592  0.30036  0.36686  0.44809\n",
      "  0.5473   0.66847  0.81647  0.99724  1.21803  1.4877   1.81709  2.2194 ]\n"
     ]
    }
   ],
   "source": [
    "baseline_model.populate_mock()\n",
    "rbins = np.loadtxt(\"../data/gm_all.dat\")[:,0]/1000\n",
    "print rbins.shape\n",
    "gg = np.loadtxt(\"../data/gm_all.dat\")[:,1]\n",
    "print rbins"
   ]
  },
  {
   "cell_type": "code",
   "execution_count": 16,
   "metadata": {
    "collapsed": false
   },
   "outputs": [],
   "source": [
    "baseline_model.populate_mock()"
   ]
  },
  {
   "cell_type": "code",
   "execution_count": 24,
   "metadata": {
    "collapsed": false
   },
   "outputs": [
    {
     "name": "stdout",
     "output_type": "stream",
     "text": [
      "[  2.41281674e-02   3.40886789e-02   4.81610563e-02   6.80427467e-02\n",
      "   9.61319318e-02   1.35816803e-01   1.91884253e-01   2.71097285e-01\n",
      "   3.83010784e-01   5.41124048e-01   7.64509115e-01   1.08011128e+00\n",
      "   1.52599930e+00   2.15595736e+00   3.04597265e+00   4.30340116e+00\n",
      "   6.07991721e+00   8.58980883e+00   1.21358257e+01   1.71456978e+01\n",
      "   2.42237289e+01   3.42236898e+01   4.83518019e+01   6.83122353e+01]\n"
     ]
    }
   ],
   "source": [
    "a = np.logspace(np.log10(.02) , np.log10(80) , 25)\n",
    "print .5*(a[1:]+a[:-1])\n",
    "rr , gg_model = baseline_model.mock.compute_galaxy_matter_cross_clustering(rbins = a)\n",
    "\n",
    "#rr , gg_model = baseline_model.mock.compute_galaxy_matter_cross_clustering(rbin = a)"
   ]
  },
  {
   "cell_type": "code",
   "execution_count": 25,
   "metadata": {
    "collapsed": false
   },
   "outputs": [
    {
     "data": {
      "text/plain": [
       "[<matplotlib.lines.Line2D at 0x7f93cd675410>]"
      ]
     },
     "execution_count": 25,
     "metadata": {},
     "output_type": "execute_result"
    },
    {
     "data": {
      "image/png": "[encoded data removed]",
      "text/plain": [
       "<matplotlib.figure.Figure at 0x7f93cc616190>"
      ]
     },
     "metadata": {},
     "output_type": "display_data"
    }
   ],
   "source": [
    "plt.loglog(rr , gg_model , \"b.\")\n",
    "plt.loglog(rbins , gg , \"r.\")"
   ]
  },
  {
   "cell_type": "code",
   "execution_count": 39,
   "metadata": {
    "collapsed": false
   },
   "outputs": [
    {
     "data": {
      "text/plain": [
       "array([  0.1       ,   0.11141914,   0.12414224,   0.13831822,\n",
       "         0.15411297,   0.17171134,   0.1913193 ,   0.21316631,\n",
       "         0.23750807,   0.26462944,   0.29484785,   0.32851693,\n",
       "         0.36603073,   0.40782829,   0.45439876,   0.50628719,\n",
       "         0.56410082,   0.62851628,   0.70028742,   0.78025421,\n",
       "         0.86935252,   0.96862509,   1.07923373,   1.20247292,\n",
       "         1.33978497,   1.49277686,   1.66323912,   1.8531667 ,\n",
       "         2.06478237,   2.30056273,   2.56326717,   2.85597019,\n",
       "         3.18209738,   3.54546549,   3.9503271 ,   4.40142042,\n",
       "         4.90402471,   5.46402208,   6.08796633,   6.78315963,\n",
       "         7.55773801,   8.42076658,   9.38234557,  10.4537286 ,\n",
       "        11.64745434,  12.97749327,  14.45941119,  16.11055137,\n",
       "        17.95023753,  20.        ])"
      ]
     },
     "execution_count": 39,
     "metadata": {},
     "output_type": "execute_result"
    }
   ],
   "source": [
    "np.logspace(np.log10(.1) , np.log10(20) , 50)"
   ]
  },
  {
   "cell_type": "code",
   "execution_count": 35,
   "metadata": {
    "collapsed": false
   },
   "outputs": [],
   "source": []
  },
  {
   "cell_type": "code",
   "execution_count": null,
   "metadata": {
    "collapsed": false
   },
   "outputs": [],
   "source": []
  },
  {
   "cell_type": "code",
   "execution_count": null,
   "metadata": {
    "collapsed": true
   },
   "outputs": [],
   "source": []
  },
  {
   "cell_type": "code",
   "execution_count": null,
   "metadata": {
    "collapsed": false
   },
   "outputs": [],
   "source": []
  },
  {
   "cell_type": "code",
   "execution_count": null,
   "metadata": {
    "collapsed": false
   },
   "outputs": [],
   "source": []
  },
  {
   "cell_type": "code",
   "execution_count": null,
   "metadata": {
    "collapsed": false
   },
   "outputs": [],
   "source": []
  },
  {
   "cell_type": "code",
   "execution_count": null,
   "metadata": {
    "collapsed": true
   },
   "outputs": [],
   "source": []
  }
 ],
 "metadata": {
  "kernelspec": {
   "display_name": "Python 2",
   "language": "python",
   "name": "python2"
  },
  "language_info": {
   "codemirror_mode": {
    "name": "ipython",
    "version": 2
   },
   "file_extension": ".py",
   "mimetype": "text/x-python",
   "name": "python",
   "nbconvert_exporter": "python",
   "pygments_lexer": "ipython2",
   "version": "2.7.9"
  }
 },
 "nbformat": 4,
 "nbformat_minor": 0
}
