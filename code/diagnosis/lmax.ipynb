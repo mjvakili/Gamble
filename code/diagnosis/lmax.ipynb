{
 "cells": [
  {
   "cell_type": "code",
   "execution_count": 1,
   "metadata": {
    "collapsed": true
   },
   "outputs": [],
   "source": [
    "import re\n",
    "import numpy as np"
   ]
  },
  {
   "cell_type": "code",
   "execution_count": 98,
   "metadata": {
    "collapsed": true
   },
   "outputs": [],
   "source": [
    "f = open(\"Mr18-wp-newhalos.o8801566\" , \"r\")"
   ]
  },
  {
   "cell_type": "code",
   "execution_count": 18,
   "metadata": {
    "collapsed": false
   },
   "outputs": [
    {
     "name": "stdout",
     "output_type": "stream",
     "text": [
      "/export/bbq2/mj/chains/output/hod-Mr20.o8379373\r\n",
      "/export/bbq2/mj/chains/output/hod-Mr21.o8358317\r\n",
      "/export/bbq2/mj/chains/output/Mr18.5-wphod-newhalos.o8802223\r\n",
      "/export/bbq2/mj/chains/output/Mr18.5-wp-newhalo.o8802103\r\n",
      "/export/bbq2/mj/chains/output/Mr18-wphod-newhalo.o8802082\r\n",
      "/export/bbq2/mj/chains/output/Mr18-wp-newhalos.o8801566\r\n",
      "/export/bbq2/mj/chains/output/Mr19.5-f.o8537589\r\n",
      "/export/bbq2/mj/chains/output/Mr19.5-hod.o8669104\r\n",
      "/export/bbq2/mj/chains/output/Mr19-f.o8500704\r\n",
      "/export/bbq2/mj/chains/output/Mr19-hod.o8620009\r\n",
      "/export/bbq2/mj/chains/output/Mr20.5-hod.o8813112\r\n",
      "/export/bbq2/mj/chains/output/Mr20.5-wp.o8813111\r\n",
      "/export/bbq2/mj/chains/output/Mr20-f.o8500637\r\n",
      "/export/bbq2/mj/chains/output/Mr21-f.o8500727\r\n"
     ]
    }
   ],
   "source": [
    "ls /export/bbq2/mj/chains/output/*"
   ]
  },
  {
   "cell_type": "code",
   "execution_count": 23,
   "metadata": {
    "collapsed": false
   },
   "outputs": [],
   "source": [
    "def lmax(filename):\n",
    "    f = open(filename , \"r\")\n",
    "    res = []\n",
    "    for l in f.readlines():\n",
    "        res.append(l)\n",
    "    nll = []    \n",
    "    for l in res:\n",
    "        if len(re.findall(\"-\\d+\\.\\d+\" , l))>0:\n",
    "            if np.float(re.findall(\"-\\d+\\.\\d+\" , l)[0]) < 0:\n",
    "                if np.float(re.findall(\"-\\d+\\.\\d+\" , l)[0])<-1.:\n",
    "                    #if np.float(re.findall(\"-\\d+\\.\\d+\" , l)[0]) -3.55501332702 < -0.1:\n",
    "                    nll.append(-2.*np.float(re.findall(\"-\\d+\\.\\d+\" , l)[0]))\n",
    "    return np.min(np.array(nll))             "
   ]
  },
  {
   "cell_type": "code",
   "execution_count": 24,
   "metadata": {
    "collapsed": false
   },
   "outputs": [],
   "source": [
    "def ic(filename , model = \"dec\"):\n",
    "    \n",
    "    chimin = lmax(filename)\n",
    "    if model == \"dec\":\n",
    "        npar  = 7\n",
    "    if model == \"hod\":\n",
    "        npar = 5\n",
    "    ndata = 13\n",
    "    \n",
    "    score_bic = chimin + npar * np.log(ndata)\n",
    "    score_aic = chimin + 2.*npar + (2.*npar)*(npar + 1.)/(ndata - npar -1)\n",
    "    \n",
    "    return score_bic , score_aic\n",
    "   "
   ]
  },
  {
   "cell_type": "code",
   "execution_count": 16,
   "metadata": {
    "collapsed": false
   },
   "outputs": [],
   "source": [
    "l = lmax(\"/export/bbq2/mj/chains/output/Mr18.5-wp-newhalo.o8802103\")"
   ]
  },
  {
   "cell_type": "code",
   "execution_count": 19,
   "metadata": {
    "collapsed": false
   },
   "outputs": [
    {
     "name": "stdout",
     "output_type": "stream",
     "text": [
      "5.93745698134\n"
     ]
    }
   ],
   "source": [
    "print l"
   ]
  },
  {
   "cell_type": "code",
   "execution_count": 20,
   "metadata": {
    "collapsed": true
   },
   "outputs": [],
   "source": [
    "l = lmax(\"/export/bbq2/mj/chains/output/Mr18.5-wphod-newhalos.o8802223\")"
   ]
  },
  {
   "cell_type": "code",
   "execution_count": 21,
   "metadata": {
    "collapsed": false
   },
   "outputs": [
    {
     "name": "stdout",
     "output_type": "stream",
     "text": [
      "6.3637704706\n"
     ]
    }
   ],
   "source": [
    "print l"
   ]
  },
  {
   "cell_type": "code",
   "execution_count": 26,
   "metadata": {
    "collapsed": false
   },
   "outputs": [
    {
     "data": {
      "text/plain": [
       "(19.188517257907684, 24.935199042028572)"
      ]
     },
     "execution_count": 26,
     "metadata": {},
     "output_type": "execute_result"
    }
   ],
   "source": [
    "ic(\"/export/bbq2/mj/chains/output/Mr18.5-wphod-newhalos.o8802223\" , \"hod\")"
   ]
  },
  {
   "cell_type": "code",
   "execution_count": null,
   "metadata": {
    "collapsed": true
   },
   "outputs": [],
   "source": [
    "ic()"
   ]
  }
 ],
 "metadata": {
  "kernelspec": {
   "display_name": "Python 2",
   "language": "python",
   "name": "python2"
  },
  "language_info": {
   "codemirror_mode": {
    "name": "ipython",
    "version": 2
   },
   "file_extension": ".py",
   "mimetype": "text/x-python",
   "name": "python",
   "nbconvert_exporter": "python",
   "pygments_lexer": "ipython2",
   "version": "2.7.9"
  }
 },
 "nbformat": 4,
 "nbformat_minor": 0
}
