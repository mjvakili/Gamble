{
 "cells": [
  {
   "cell_type": "code",
   "execution_count": 97,
   "metadata": {
    "collapsed": true
   },
   "outputs": [],
   "source": [
    "import re\n",
    "import numpy as np"
   ]
  },
  {
   "cell_type": "code",
   "execution_count": 98,
   "metadata": {
    "collapsed": true
   },
   "outputs": [],
   "source": [
    "f = open(\"Mr18-wp-newhalos.o8801566\" , \"r\")"
   ]
  },
  {
   "cell_type": "code",
   "execution_count": 3,
   "metadata": {
    "collapsed": true
   },
   "outputs": [],
   "source": [
    "res = []"
   ]
  },
  {
   "cell_type": "code",
   "execution_count": 4,
   "metadata": {
    "collapsed": true
   },
   "outputs": [],
   "source": [
    "for l in f.readlines():\n",
    "               res.append(l)"
   ]
  },
  {
   "cell_type": "code",
   "execution_count": 6,
   "metadata": {
    "collapsed": false
   },
   "outputs": [
    {
     "data": {
      "text/plain": [
       "1308730"
      ]
     },
     "execution_count": 6,
     "metadata": {},
     "output_type": "execute_result"
    }
   ],
   "source": [
    "len(res)"
   ]
  },
  {
   "cell_type": "code",
   "execution_count": 39,
   "metadata": {
    "collapsed": false
   },
   "outputs": [
    {
     "name": "stdout",
     "output_type": "stream",
     "text": [
      "['-6.18921988734']\n",
      ".neg_chi_tot -6.18921988734\n",
      "\n"
     ]
    },
    {
     "data": {
      "text/plain": [
       "-6.18921988734"
      ]
     },
     "execution_count": 39,
     "metadata": {},
     "output_type": "execute_result"
    }
   ],
   "source": [
    "print(re.findall(\"-\\d+\\.\\d+\" , res[3019]))\n",
    "print(res[3019])\n",
    "np.float(['-6.18921988734'][0])"
   ]
  },
  {
   "cell_type": "code",
   "execution_count": 52,
   "metadata": {
    "collapsed": false
   },
   "outputs": [],
   "source": [
    "nll = []\n",
    "for l in res:\n",
    "    if len(re.findall(\"-\\d+\\.\\d+\" , l))>0:\n",
    "        if np.float(re.findall(\"-\\d+\\.\\d+\" , l)[0]) < 0:\n",
    "            if np.float(re.findall(\"-\\d+\\.\\d+\" , l)[0])<-1:\n",
    "                nll.append(np.float(re.findall(\"-\\d+\\.\\d+\" , l)[0]))"
   ]
  },
  {
   "cell_type": "code",
   "execution_count": 107,
   "metadata": {
    "collapsed": false
   },
   "outputs": [],
   "source": [
    "def lmax(filename):\n",
    "    f = open(filename , \"r\")\n",
    "    res = []\n",
    "    for l in f.readlines():\n",
    "        res.append(l)\n",
    "    nll = []    \n",
    "    for l in res:\n",
    "        if len(re.findall(\"-\\d+\\.\\d+\" , l))>0:\n",
    "            if np.float(re.findall(\"-\\d+\\.\\d+\" , l)[0]) < 0:\n",
    "                if np.float(re.findall(\"-\\d+\\.\\d+\" , l)[0])<-1.:\n",
    "                    #if np.float(re.findall(\"-\\d+\\.\\d+\" , l)[0]) -3.55501332702 < -0.1:\n",
    "                    nll.append(-1.*np.float(re.findall(\"-\\d+\\.\\d+\" , l)[0]))\n",
    "    return np.array(nll)             "
   ]
  },
  {
   "cell_type": "code",
   "execution_count": null,
   "metadata": {
    "collapsed": false
   },
   "outputs": [],
   "source": []
  },
  {
   "cell_type": "code",
   "execution_count": 108,
   "metadata": {
    "collapsed": false
   },
   "outputs": [],
   "source": [
    "lm = lmax(\"Mr18-wphod-newhalo.o8802082\")"
   ]
  },
  {
   "cell_type": "code",
   "execution_count": 126,
   "metadata": {
    "collapsed": false
   },
   "outputs": [
    {
     "data": {
      "text/plain": [
       "19.934773441347684"
      ]
     },
     "execution_count": 126,
     "metadata": {},
     "output_type": "execute_result"
    }
   ],
   "source": [
    "2*np.min(lm) + 5 * np.log(13)"
   ]
  },
  {
   "cell_type": "code",
   "execution_count": 111,
   "metadata": {
    "collapsed": true
   },
   "outputs": [],
   "source": [
    "lm = lmax(\"Mr18-wp-newhalos.o8801566\")"
   ]
  },
  {
   "cell_type": "code",
   "execution_count": 120,
   "metadata": {
    "collapsed": false
   },
   "outputs": [
    {
     "data": {
      "text/plain": [
       "25.06467215627076"
      ]
     },
     "execution_count": 120,
     "metadata": {},
     "output_type": "execute_result"
    }
   ],
   "source": [
    "2*np.min(lm) + 7*np.log(13)"
   ]
  },
  {
   "cell_type": "code",
   "execution_count": 128,
   "metadata": {
    "collapsed": false
   },
   "outputs": [
    {
     "data": {
      "text/plain": [
       "5.129899999999999"
      ]
     },
     "execution_count": 128,
     "metadata": {},
     "output_type": "execute_result"
    }
   ],
   "source": [
    "25.0646 - 19.9347"
   ]
  },
  {
   "cell_type": "code",
   "execution_count": null,
   "metadata": {
    "collapsed": true
   },
   "outputs": [],
   "source": []
  }
 ],
 "metadata": {
  "kernelspec": {
   "display_name": "Python 2",
   "language": "python",
   "name": "python2"
  },
  "language_info": {
   "codemirror_mode": {
    "name": "ipython",
    "version": 2
   },
   "file_extension": ".py",
   "mimetype": "text/x-python",
   "name": "python",
   "nbconvert_exporter": "python",
   "pygments_lexer": "ipython2",
   "version": "2.7.9"
  }
 },
 "nbformat": 4,
 "nbformat_minor": 0
}
