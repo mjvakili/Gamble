{
 "cells": [
  {
   "cell_type": "code",
   "execution_count": 1,
   "metadata": {
    "collapsed": false
   },
   "outputs": [
    {
     "name": "stderr",
     "output_type": "stream",
     "text": [
      "/home/mj/.local/lib/python2.7/site-packages/IPython/kernel/__init__.py:13: ShimWarning: The `IPython.kernel` package has been deprecated. You should import from ipykernel or jupyter_client instead.\n",
      "  \"You should import from ipykernel or jupyter_client instead.\", ShimWarning)\n"
     ]
    }
   ],
   "source": [
    "%matplotlib inline\n",
    "from matplotlib import lines as mlines\n",
    "from matplotlib import pyplot as plt\n",
    "\n",
    "import numpy as np\n",
    "\n",
    "def fracdiff(alt, fid):\n",
    "    return (alt-fid)/fid\n",
    "from halotools.empirical_models import PrebuiltHodModelFactory"
   ]
  },
  {
   "cell_type": "code",
   "execution_count": 17,
   "metadata": {
    "collapsed": true
   },
   "outputs": [],
   "source": [
    "model = PrebuiltHodModelFactory('hearin15', threshold = 10.6, redshift = 0., \n",
    "                        central_assembias_strength = 0, \n",
    "                        satellite_assembias_strength = 0)\n",
    "model.param_dict['scatter_model_param1'] = 0.4 # This is the \"fiducial\" scatter used throughout the paper\n",
    "baseline_model = PrebuiltHodModelFactory('leauthaud11', threshold = 10.6, redshift = 0.)\n",
    "baseline_model.param_dict['scatter_model_param1'] = 0.4"
   ]
  },
  {
   "cell_type": "code",
   "execution_count": 18,
   "metadata": {
    "collapsed": false
   },
   "outputs": [],
   "source": [
    "model.populate_mock()"
   ]
  },
  {
   "cell_type": "code",
   "execution_count": 19,
   "metadata": {
    "collapsed": false
   },
   "outputs": [
    {
     "data": {
      "text/plain": [
       "(array([ 0.0354  ,  0.043235,  0.052805,  0.0645  ,  0.07878 ,  0.09622 ,\n",
       "         0.117525,  0.143545,  0.175325,  0.214145,  0.26156 ,  0.31947 ,\n",
       "         0.3902  ,  0.47659 ,  0.58211 ,  0.71099 ,  0.868405,  1.060675,\n",
       "         1.29551 ,  1.582335,  1.932665,  2.360565,  2.8832  ]),\n",
       " array([  8.75928137e+03,   5.86086876e+03,   3.57622029e+03,\n",
       "          2.40928832e+03,   1.53088073e+03,   1.02093480e+03,\n",
       "          6.62567960e+02,   4.22434223e+02,   2.52496460e+02,\n",
       "          1.60842291e+02,   9.90979974e+01,   6.13197229e+01,\n",
       "          3.76925864e+01,   2.40252343e+01,   1.64036177e+01,\n",
       "          1.10814372e+01,   7.81023787e+00,   5.85379762e+00,\n",
       "          4.53675933e+00,   3.44654559e+00,   2.55399415e+00,\n",
       "          1.90037107e+00,   1.42916330e+00]))"
      ]
     },
     "execution_count": 19,
     "metadata": {},
     "output_type": "execute_result"
    }
   ],
   "source": [
    "model.mock.compute_galaxy_matter_cross_clustering(rbins = R*10**-3.)"
   ]
  },
  {
   "cell_type": "code",
   "execution_count": 14,
   "metadata": {
    "collapsed": true
   },
   "outputs": [],
   "source": [
    "R = np.array([31.87,38.93,47.54,58.07,70.93,86.63,105.81,129.24,157.85,192.80,235.49,287.63,351.31,429.09,524.09 ,640.13 \n",
    ",781.85 \n",
    ",954.96 \n",
    ",1166.39 \n",
    ",1424.63 \n",
    ",1740.04,2125.29,2595.84,3170.56])"
   ]
  },
  {
   "cell_type": "code",
   "execution_count": 12,
   "metadata": {
    "collapsed": true
   },
   "outputs": [],
   "source": [
    "xi_gm = np.array([-25.63,76.67,79.43,28.00,18.30,28.00,26.59,11.41,21.32,1.61,7.15,1.19,-2.55,5.88,1.33,-0.21,-1.26 ,2.61,0.54,\n",
    "3.27,2.26,0.76,0.51,0.49])"
   ]
  },
  {
   "cell_type": "code",
   "execution_count": 20,
   "metadata": {
    "collapsed": false
   },
   "outputs": [
    {
     "data": {
      "text/plain": [
       "{'alphasat': 1.0,\n",
       " 'bcut': 1.47,\n",
       " 'betacut': -0.13,\n",
       " 'betasat': 0.859,\n",
       " 'bsat': 10.62,\n",
       " u'scatter_model_param1': 0.4,\n",
       " u'smhm_beta_0': 0.43,\n",
       " u'smhm_beta_a': 0.18,\n",
       " u'smhm_delta_0': 0.56,\n",
       " u'smhm_delta_a': 0.18,\n",
       " u'smhm_gamma_0': 1.54,\n",
       " u'smhm_gamma_a': 2.52,\n",
       " u'smhm_m0_0': 10.72,\n",
       " u'smhm_m0_a': 0.59,\n",
       " u'smhm_m1_0': 12.35,\n",
       " u'smhm_m1_a': 0.3}"
      ]
     },
     "execution_count": 20,
     "metadata": {},
     "output_type": "execute_result"
    }
   ],
   "source": [
    "model.param_dict"
   ]
  },
  {
   "cell_type": "code",
   "execution_count": 31,
   "metadata": {
    "collapsed": false
   },
   "outputs": [
    {
     "data": {
      "text/plain": [
       "(array([  0.12239095,   0.17719995,   0.25655347,   0.37144299,\n",
       "          0.53778224,   0.77861137,   1.12728837,   1.63210958,\n",
       "          2.36299934,   3.42119545,   4.95327193,   7.17144145,\n",
       "         10.38294952,  15.03263208]),\n",
       " array([ -0.14747511,  -0.29772983,   4.78497345,  10.71142442,\n",
       "          9.26535586,   6.51158463,   4.12254192,   2.4676225 ,\n",
       "          1.42187277,   0.82640716,   0.49090503,   0.28025908,\n",
       "          0.15694177,   0.08513456]))"
      ]
     },
     "execution_count": 31,
     "metadata": {},
     "output_type": "execute_result"
    }
   ],
   "source": [
    "model.mock.compute_galaxy_clustering()"
   ]
  },
  {
   "cell_type": "code",
   "execution_count": 30,
   "metadata": {
    "collapsed": false
   },
   "outputs": [
    {
     "data": {
      "text/plain": [
       "(array([  0.12239095,   0.17719995,   0.25655347,   0.37144299,\n",
       "          0.53778224,   0.77861137,   1.12728837,   1.63210958,\n",
       "          2.36299934,   3.42119545,   4.95327193,   7.17144145,\n",
       "         10.38294952,  15.03263208]),\n",
       " array([  5.99886482e+02,   2.48900884e+02,   1.01236245e+02,\n",
       "          4.22471762e+01,   1.85972465e+01,   9.34660317e+00,\n",
       "          5.49691910e+00,   3.27165108e+00,   1.87976370e+00,\n",
       "          1.09358875e+00,   6.38424225e-01,   3.62620861e-01,\n",
       "          2.02166122e-01,   1.03976748e-01]))"
      ]
     },
     "execution_count": 30,
     "metadata": {},
     "output_type": "execute_result"
    }
   ],
   "source": [
    "model.mock.compute_galaxy_matter_cross_clustering()"
   ]
  },
  {
   "cell_type": "code",
   "execution_count": 42,
   "metadata": {
    "collapsed": true
   },
   "outputs": [],
   "source": [
    "model = PrebuiltHodModelFactory('zheng07')\n",
    "model.populate_mock()"
   ]
  },
  {
   "cell_type": "code",
   "execution_count": 45,
   "metadata": {
    "collapsed": false
   },
   "outputs": [
    {
     "data": {
      "text/plain": [
       "3678650.0"
      ]
     },
     "execution_count": 45,
     "metadata": {},
     "output_type": "execute_result"
    }
   ],
   "source": [
    "(250**3.)*model.mock.number_density*50\n",
    "#for i in range(10):\n",
    "    \n",
    "#  model.populate_mock()\n",
    "#  print model.mock.compute_galaxy_clustering()"
   ]
  },
  {
   "cell_type": "code",
   "execution_count": 39,
   "metadata": {
    "collapsed": false
   },
   "outputs": [
    {
     "data": {
      "text/plain": [
       "(array([  0.12239095,   0.17719995,   0.25655347,   0.37144299,\n",
       "          0.53778224,   0.77861137,   1.12728837,   1.63210958,\n",
       "          2.36299934,   3.42119545,   4.95327193,   7.17144145,\n",
       "         10.38294952,  15.03263208]),\n",
       " array([ -1.        ,  -0.77840244,   3.30798441,  11.70320121,\n",
       "         11.04187656,   7.9857014 ,   5.04037702,   3.02146281,\n",
       "          1.74846067,   1.01618687,   0.60632803,   0.34254218,\n",
       "          0.19159335,   0.0997026 ]))"
      ]
     },
     "execution_count": 39,
     "metadata": {},
     "output_type": "execute_result"
    }
   ],
   "source": []
  },
  {
   "cell_type": "code",
   "execution_count": null,
   "metadata": {
    "collapsed": true
   },
   "outputs": [],
   "source": []
  }
 ],
 "metadata": {
  "kernelspec": {
   "display_name": "Python 2",
   "language": "python",
   "name": "python2"
  },
  "language_info": {
   "codemirror_mode": {
    "name": "ipython",
    "version": 2
   },
   "file_extension": ".py",
   "mimetype": "text/x-python",
   "name": "python",
   "nbconvert_exporter": "python",
   "pygments_lexer": "ipython2",
   "version": "2.7.9"
  }
 },
 "nbformat": 4,
 "nbformat_minor": 0
}
