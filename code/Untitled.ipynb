{
 "cells": [
  {
   "cell_type": "code",
   "execution_count": null,
   "metadata": {
    "collapsed": false
   },
   "outputs": [],
   "source": [
    "%matplotlib inline\n",
    "from matplotlib import lines as mlines\n",
    "from matplotlib import pyplot as plt\n",
    "\n",
    "import numpy as np\n",
    "\n",
    "def fracdiff(alt, fid):\n",
    "    return (alt-fid)/fid\n",
    "from halotools.empirical_models import PrebuiltHodModelFactory\n",
    "\n",
    "# The \"fiducial\" stellar mass threshold is 10**10.5"
   ]
  },
  {
   "cell_type": "code",
   "execution_count": null,
   "metadata": {
    "collapsed": true
   },
   "outputs": [],
   "source": [
    "model = PrebuiltHodModelFactory('hearin15', threshold = 10.5, redshift = 0., \n",
    "                        central_assembias_strength = 1, \n",
    "                        satellite_assembias_strength = 1)\n",
    "model.param_dict['scatter_model_param1'] = 0.4 # This is the \"fiducial\" scatter used throughout the paper\n",
    "baseline_model = PrebuiltHodModelFactory('leauthaud11', threshold = 10.5, redshift = 0.)\n",
    "baseline_model.param_dict['scatter_model_param1'] = 0.4\n"
   ]
  },
  {
   "cell_type": "code",
   "execution_count": null,
   "metadata": {
    "collapsed": true
   },
   "outputs": [],
   "source": [
    "from halotools.empirical_models import PrebuiltHodModelFactory\n",
    "model = PrebuiltHodModelFactory('hearin15', threshold = 10.6, redshift = 0., \n",
    "                        central_assembias_strength = 1, \n",
    "                        satellite_assembias_strength = 1)\n",
    "model.param_dict['scatter_model_param1'] = 0.4\n",
    "\n",
    "baseline_model = PrebuiltHodModelFactory('leauthaud11', threshold = 10.6, redshift = 0.)\n",
    "baseline_model.param_dict['scatter_model_param1'] = 0.4"
   ]
  },
  {
   "cell_type": "code",
   "execution_count": null,
   "metadata": {
    "collapsed": false
   },
   "outputs": [],
   "source": []
  },
  {
   "cell_type": "code",
   "execution_count": null,
   "metadata": {
    "collapsed": true
   },
   "outputs": [],
   "source": [
    "num_iterations = 1\n",
    "\n",
    "# baseline result\n",
    "\n",
    "r, xi_gm_baseline = baseline_model.compute_average_galaxy_matter_cross_clustering(num_iterations = num_iterations)\n",
    "\n",
    "# Central assembias only\n",
    "\n",
    "model.param_dict['mean_occupation_satellites_assembias_param1'] = 0\n",
    "model.param_dict['mean_occupation_centrals_assembias_param1'] = 1\n",
    "r, xi_gm_a1_censonly = model.compute_average_galaxy_matter_cross_clustering(num_iterations = num_iterations)\n",
    "\n",
    "# Satellite assembias only\n",
    "\n",
    "model.param_dict['mean_occupation_satellites_assembias_param1'] = 1\n",
    "model.param_dict['mean_occupation_centrals_assembias_param1'] = 0\n",
    "r, xi_gm_a1_satsonly = model.compute_average_galaxy_matter_cross_clustering(num_iterations = num_iterations)\n",
    "\n",
    "# Central & Satellite assembias \n",
    "\n",
    "model.param_dict['mean_occupation_satellites_assembias_param1'] = 1\n",
    "model.param_dict['mean_occupation_centrals_assembias_param1'] = 1\n",
    "r, xi_gm_a1_all = model.compute_average_galaxy_matter_cross_clustering(num_iterations = num_iterations)"
   ]
  },
  {
   "cell_type": "code",
   "execution_count": null,
   "metadata": {
    "collapsed": true
   },
   "outputs": [],
   "source": [
    "R = np.array([31.87,38.93,47.54,58.07,70.93,86.63,105.81,129.24,157.85,192.80,235.49,287.63,351.31,429.09,524.09 ,640.13 \n",
    ",781.85 \n",
    ",954.96 \n",
    ",1166.39 \n",
    ",1424.63 \n",
    ",1740.04,2125.29,2595.84,3170.56])\n"
   ]
  },
  {
   "cell_type": "code",
   "execution_count": null,
   "metadata": {
    "collapsed": false
   },
   "outputs": [],
   "source": [
    "R"
   ]
  },
  {
   "cell_type": "code",
   "execution_count": null,
   "metadata": {
    "collapsed": true
   },
   "outputs": [],
   "source": [
    "xi_gm = np.array([-25.63,76.67,79.43,28.00,18.30,28.00,26.59,11.41,21.32,1.61,7.15,1.19,-2.55,5.88,1.33,-0.21,-1.26 ,2.61,0.54,\n",
    "3.27,2.26,0.76,0.51,0.49])"
   ]
  },
  {
   "cell_type": "code",
   "execution_count": null,
   "metadata": {
    "collapsed": false
   },
   "outputs": [],
   "source": [
    "xi_gm.shape"
   ]
  },
  {
   "cell_type": "code",
   "execution_count": null,
   "metadata": {
    "collapsed": false
   },
   "outputs": [],
   "source": [
    "1+2"
   ]
  },
  {
   "cell_type": "code",
   "execution_count": null,
   "metadata": {
    "collapsed": true
   },
   "outputs": [],
   "source": []
  },
  {
   "cell_type": "code",
   "execution_count": null,
   "metadata": {
    "collapsed": true
   },
   "outputs": [],
   "source": []
  }
 ],
 "metadata": {
  "kernelspec": {
   "display_name": "Python 2",
   "language": "python",
   "name": "python2"
  },
  "language_info": {
   "codemirror_mode": {
    "name": "ipython",
    "version": 2
   },
   "file_extension": ".py",
   "mimetype": "text/x-python",
   "name": "python",
   "nbconvert_exporter": "python",
   "pygments_lexer": "ipython2",
   "version": "2.7.9"
  }
 },
 "nbformat": 4,
 "nbformat_minor": 0
}
